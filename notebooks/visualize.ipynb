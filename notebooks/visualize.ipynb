{
 "cells": [
  {
   "cell_type": "code",
   "execution_count": 32,
   "metadata": {},
   "outputs": [],
   "source": [
    "import equinox as eqx\n",
    "from neuralodes.model.oderesnet.odenet import ODENet\n",
    "from neuralodes.data.dataloader import get_dataloaders\n",
    "from neuralodes.model.oderesnet.evaluation import evaluate\n",
    "from pathlib import Path\n",
    "import os\n",
    "import jax.random as jrandom"
   ]
  },
  {
   "cell_type": "code",
   "execution_count": 33,
   "metadata": {},
   "outputs": [],
   "source": [
    "if Path(os.getcwd()).name == \"notebooks\":\n",
    "    os.chdir(Path(os.getcwd()).parent)"
   ]
  },
  {
   "cell_type": "code",
   "execution_count": 37,
   "metadata": {},
   "outputs": [],
   "source": [
    "key = jrandom.PRNGKey(0)\n",
    "solver_name = \"tsit5\"\n",
    "\n",
    "odenet = eqx.tree_deserialise_leaves(Path(\"models\", \"oderesnet\", \"odenet_fashionmnist_Tsit5_64.eqx\"), ODENet(key, solver_name))"
   ]
  },
  {
   "cell_type": "code",
   "execution_count": 35,
   "metadata": {},
   "outputs": [],
   "source": [
    "_, test_dataloader = get_dataloaders(\"fashionmnist\", 256)"
   ]
  },
  {
   "cell_type": "code",
   "execution_count": 36,
   "metadata": {},
   "outputs": [
    {
     "data": {
      "text/plain": [
       "(0.24162933342158793, 0.921875)"
      ]
     },
     "execution_count": 36,
     "metadata": {},
     "output_type": "execute_result"
    }
   ],
   "source": [
    "evaluate(odenet, test_dataloader)"
   ]
  },
  {
   "cell_type": "code",
   "execution_count": 38,
   "metadata": {},
   "outputs": [
    {
     "data": {
      "text/plain": [
       "(0.2494609896093607, 0.91884765625)"
      ]
     },
     "execution_count": 38,
     "metadata": {},
     "output_type": "execute_result"
    }
   ],
   "source": [
    "evaluate(odenet, test_dataloader)"
   ]
  },
  {
   "cell_type": "code",
   "execution_count": 28,
   "metadata": {},
   "outputs": [
    {
     "data": {
      "text/plain": [
       "ODEBlock(\n",
       "  odefunc=ODEFunc(\n",
       "    norm1=GroupNorm(\n",
       "      groups=32,\n",
       "      channels=64,\n",
       "      eps=1e-05,\n",
       "      channelwise_affine=True,\n",
       "      weight=f32[64],\n",
       "      bias=f32[64]\n",
       "    ),\n",
       "    relu=<wrapped function relu>,\n",
       "    conv1=ConcatConv2D(\n",
       "      layer=Conv2d(\n",
       "        num_spatial_dims=2,\n",
       "        weight=f32[64,65,3,3],\n",
       "        bias=f32[64,1,1],\n",
       "        in_channels=65,\n",
       "        out_channels=64,\n",
       "        kernel_size=(3, 3),\n",
       "        stride=(1, 1),\n",
       "        padding=((1, 1), (1, 1)),\n",
       "        dilation=(1, 1),\n",
       "        groups=1,\n",
       "        use_bias=True\n",
       "      )\n",
       "    ),\n",
       "    norm2=GroupNorm(\n",
       "      groups=32,\n",
       "      channels=64,\n",
       "      eps=1e-05,\n",
       "      channelwise_affine=True,\n",
       "      weight=f32[64],\n",
       "      bias=f32[64]\n",
       "    ),\n",
       "    conv2=ConcatConv2D(\n",
       "      layer=Conv2d(\n",
       "        num_spatial_dims=2,\n",
       "        weight=f32[64,65,3,3],\n",
       "        bias=f32[64,1,1],\n",
       "        in_channels=65,\n",
       "        out_channels=64,\n",
       "        kernel_size=(3, 3),\n",
       "        stride=(1, 1),\n",
       "        padding=((1, 1), (1, 1)),\n",
       "        dilation=(1, 1),\n",
       "        groups=1,\n",
       "        use_bias=True\n",
       "      )\n",
       "    ),\n",
       "    norm3=GroupNorm(\n",
       "      groups=32,\n",
       "      channels=64,\n",
       "      eps=1e-05,\n",
       "      channelwise_affine=True,\n",
       "      weight=f32[64],\n",
       "      bias=f32[64]\n",
       "    )\n",
       "  ),\n",
       "  integration_time=i32[2],\n",
       "  solver=Heun(scan_stages=False)\n",
       ")"
      ]
     },
     "execution_count": 28,
     "metadata": {},
     "output_type": "execute_result"
    }
   ],
   "source": [
    "odenet.layers[1]"
   ]
  },
  {
   "cell_type": "code",
   "execution_count": null,
   "metadata": {},
   "outputs": [],
   "source": []
  },
  {
   "cell_type": "code",
   "execution_count": null,
   "metadata": {},
   "outputs": [],
   "source": [
    "from matplotlib import pyplot as plt\n",
    "\n",
    "t_values = [0,1]\n",
    "ode_func = \n",
    "\n",
    "# Define a function to visualize the sensitivity\n",
    "def visualize_sensitivity(sensitivity, t_values):\n",
    "    num_t_values = len(t_values)\n",
    "    num_channels = sensitivity.shape[1]\n",
    "    \n",
    "    fig, axes = plt.subplots(num_channels, num_t_values, figsize=(4 * num_t_values, 4 * num_channels))\n",
    "    \n",
    "    for i, t in enumerate(t_values):\n",
    "        for j in range(num_channels):\n",
    "            ax = axes[j, i]\n",
    "            ax.imshow(sensitivity[i, j], cmap='viridis', aspect='auto')\n",
    "            ax.axis('off')\n",
    "            if j == 0:\n",
    "                ax.set_title(f't = {t}')\n",
    "\n",
    "    plt.tight_layout()\n",
    "    plt.show()\n",
    "\n",
    "# Generate a small perturbation to the input data (x)\n",
    "epsilon = 1e-2\n",
    "perturbation = epsilon * jrandom.normal(key, x.shape)\n",
    "x_perturbed = x + perturbation\n",
    "\n",
    "# Compute the output for the original and perturbed inputs\n",
    "outputs = []\n",
    "outputs_perturbed = []\n",
    "for t in t_values:\n",
    "    output = ode_func(t, x, None)\n",
    "    output_perturbed = ode_func(t, x_perturbed, None)\n",
    "    outputs.append(output[0])\n",
    "    outputs_perturbed.append(output_perturbed[0])\n",
    "\n",
    "outputs = jnp.stack(outputs)\n",
    "outputs_perturbed = jnp.stack(outputs_perturbed)\n",
    "\n",
    "# Calculate the difference between the outputs\n",
    "sensitivity = jnp.abs(outputs_perturbed - outputs)\n",
    "\n",
    "# Visualize the sensitivity\n",
    "visualize_sensitivity(sensitivity, t_values)"
   ]
  }
 ],
 "metadata": {
  "kernelspec": {
   "display_name": "neural-odes",
   "language": "python",
   "name": "python3"
  },
  "language_info": {
   "codemirror_mode": {
    "name": "ipython",
    "version": 3
   },
   "file_extension": ".py",
   "mimetype": "text/x-python",
   "name": "python",
   "nbconvert_exporter": "python",
   "pygments_lexer": "ipython3",
   "version": "3.10.4"
  },
  "orig_nbformat": 4
 },
 "nbformat": 4,
 "nbformat_minor": 2
}
